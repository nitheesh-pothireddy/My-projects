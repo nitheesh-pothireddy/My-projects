{
 "cells": [
  {
   "cell_type": "code",
   "execution_count": null,
   "id": "371f8c41",
   "metadata": {},
   "outputs": [],
   "source": [
    "import numpy as np\n",
    "import pandas as pd\n",
    "import matplotlib.pyplot as plt\n",
    "from sklearn.model_selection import train_test_split\n",
    "from sklearn.linear_model import LinearRegression\n",
    "from scipy.fft import fft\n",
    "from sklearn import metrics\n",
    "\n"
   ]
  },
  {
   "cell_type": "code",
   "execution_count": null,
   "id": "76e15b24",
   "metadata": {},
   "outputs": [],
   "source": [
    "df = pd.read_csv('scr-dataset.csv') \n",
    "X = np.array(df['x'])\n",
    "y = np.array(df['y'])\n",
    "\n",
    "# Plotting the given dataset as a barplot\n",
    "plt.figure(figsize=(400,50))\n",
    "plt.bar(df['x'], df['y'])"
   ]
  },
  {
   "cell_type": "code",
   "execution_count": null,
   "id": "88d2c91d",
   "metadata": {},
   "outputs": [],
   "source": [
    "# Linear and Polynomial Regression yield unsatisfactory predictions \n",
    "# with approximately 0.9 RMSE,making them unsuitable for the provided dataset\n",
    "\n",
    "# Based on the periodic relation observed in the data plot, \n",
    "# Fourier Series Regression is suitable for modeling the relationship between x and y\n",
    "Y_fourier = fft(y)\n",
    "frequencies = np.fft.fftfreq(len(X), (X[1] - X[0]))  # Assuming a regular grid for X\n",
    "amplitudes = np.abs(Y_fourier)\n",
    "\n",
    "# Select relevant frequencies based on amplitudes \n",
    "# and a threshold of 0.004 (by tuning for minimising RMSE)\n",
    "relevant_freq_indices = np.where(amplitudes > 0.004)[0]\n",
    "\n",
    "# Create new features based on sinusoidal components\n",
    "sinusoidal_features = np.zeros((len(X), len(relevant_freq_indices) * 2))\n",
    "\n",
    "for i, freq_index in enumerate(relevant_freq_indices):\n",
    "    frequency = frequencies[freq_index]\n",
    "    sinusoidal_features[:, 2 * i] = np.sin(2 * np.pi * frequency * X)\n",
    "    sinusoidal_features[:, 2 * i + 1] = np.cos(2 * np.pi * frequency * X)\n",
    "X_combined = np.hstack([X.reshape(-1, 1), sinusoidal_features])\n",
    "\n",
    "# Split data into training and testing sets - random_state = 42\n",
    "X_train,X_test,y_train,y_test = train_test_split(X_combined,y,test_size=0.2,random_state=42)\n",
    "\n",
    "# Train a regression model\n",
    "model = LinearRegression()\n",
    "model.fit(X_train, y_train)\n",
    "\n",
    "# Make predictions on the test set\n",
    "y_pred = model.predict(X_test)\n"
   ]
  },
  {
   "cell_type": "code",
   "execution_count": null,
   "id": "07b930af",
   "metadata": {},
   "outputs": [],
   "source": [
    "print(y_pred)\n",
    "print(y_test) #Comparing with actual values of y\n",
    "print(metrics.mean_absolute_error(y_test,y_pred))\n",
    "print(np.sqrt(metrics.mean_squared_error(y_test,y_pred))) #RMSE"
   ]
  },
  {
   "cell_type": "code",
   "execution_count": null,
   "id": "68ef2fca",
   "metadata": {},
   "outputs": [],
   "source": [
    "# An RMSE of ~0.0003 indicates excellent performance for this dataset, highlighting\n",
    "# the model's strong predictive capability"
   ]
  },
  {
   "cell_type": "code",
   "execution_count": null,
   "id": "b96f4f28",
   "metadata": {},
   "outputs": [],
   "source": [
    "# Y_fourier, frequencies, amplitudes, relevant_freq_indices, sinusoidal_features, \n",
    "#X_combined, X_train, y_train, model are already defined \n",
    "#so generating the features for x=50 \n",
    "\n",
    "# New value for x\n",
    "new_x = np.array([50])\n",
    "\n",
    "# Extracting the sinusoidal features for the new element\n",
    "sinusoidal_features_x50 = np.zeros((1, len(relevant_freq_indices) * 2))\n",
    "\n",
    "# Ensure that relevant_freq_indices is not empty\n",
    "if len(relevant_freq_indices) > 0:\n",
    "    for i, freq_index in enumerate(relevant_freq_indices):\n",
    "        frequency = frequencies[freq_index]\n",
    "        sinusoidal_features_x50[:, 2 * i] = np.sin(2 * np.pi * frequency * new_x)\n",
    "        sinusoidal_features_x50[:, 2 * i + 1] = np.cos(2 * np.pi * frequency * new_x)\n",
    "\n",
    "    # Combine the original features with the new element's features\n",
    "    X_combined_x50 = np.hstack([new_x.reshape(-1, 1), sinusoidal_features_x50])\n",
    "\n",
    "    # Make Prediction\n",
    "    y_pred_x50 = model.predict(X_combined_x50)\n",
    "    print(\"Predicted y for x=50:\", y_pred_x50[0])\n",
    "    \n",
    "else:\n",
    "    print(\"Error: No relevant frequencies found, Prediction could not be made.\")"
   ]
  }
 ],
 "metadata": {
  "kernelspec": {
   "display_name": "Python 3 (ipykernel)",
   "language": "python",
   "name": "python3"
  },
  "language_info": {
   "codemirror_mode": {
    "name": "ipython",
    "version": 3
   },
   "file_extension": ".py",
   "mimetype": "text/x-python",
   "name": "python",
   "nbconvert_exporter": "python",
   "pygments_lexer": "ipython3",
   "version": "3.11.7"
  }
 },
 "nbformat": 4,
 "nbformat_minor": 5
}
